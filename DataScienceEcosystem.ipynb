{
 "cells": [
  {
   "cell_type": "markdown",
   "id": "a483b67b-757f-4efe-986e-1208a166957e",
   "metadata": {},
   "source": [
    "# Data Science Tools and Ecosystem"
   ]
  },
  {
   "cell_type": "markdown",
   "id": "09b698e7-2102-4565-804a-dbb53fbec568",
   "metadata": {},
   "source": [
    "In this notebook, Data Science Tools and Ecosystem are summarized."
   ]
  },
  {
   "cell_type": "markdown",
   "id": "1e46eef4-9cb7-444f-807a-3dab1ec10381",
   "metadata": {},
   "source": [
    "**Objectives:**\n",
    "- R language\n",
    "- MySQL\n",
    "- Java\n",
    "- Python\n",
    "- Julia\n"
   ]
  },
  {
   "cell_type": "markdown",
   "id": "6ee72aea-7399-4895-9c19-83e8cc605cbe",
   "metadata": {},
   "source": [
    "Some of the popular languages that Data Scientists use are:\n",
    "\n",
    "1. Python\n",
    "2. R language\n",
    "3. Scala and Julia"
   ]
  },
  {
   "cell_type": "markdown",
   "id": "eb0d12b6-70f2-49b7-bd11-5151ed039c78",
   "metadata": {},
   "source": [
    "Some of the commonly used libraries used by Data Scientists include:\n",
    "1. MatplotLib\n",
    "2. NumPy\n",
    "3. TensorFlow"
   ]
  },
  {
   "cell_type": "markdown",
   "id": "fb7d7229-6c0c-46b8-bb8e-36f60d5f7d90",
   "metadata": {},
   "source": [
    "| Data Science Tools|\n",
    "| ------------------|\n",
    "| Jupyter Notebook |\n",
    "| R studio |\n",
    "| GitLab |"
   ]
  },
  {
   "cell_type": "markdown",
   "id": "f3e6d437-4f5e-4a64-94c8-f5852b3f3a74",
   "metadata": {},
   "source": [
    "### Below are few examples of evaluating arithmetic expressions in python"
   ]
  },
  {
   "cell_type": "markdown",
   "id": "75f48f67-69ca-49fd-a350-2ae99a6591b1",
   "metadata": {},
   "source": [
    "This a simple arithmetic expression to multiply then add integers\n"
   ]
  },
  {
   "cell_type": "code",
   "execution_count": 1,
   "id": "2ba8d598-1e84-45f8-95f4-be0ca81a7b48",
   "metadata": {
    "tags": []
   },
   "outputs": [
    {
     "data": {
      "text/plain": [
       "17"
      ]
     },
     "execution_count": 1,
     "metadata": {},
     "output_type": "execute_result"
    }
   ],
   "source": [
    "(3*4)+5\n"
   ]
  },
  {
   "cell_type": "code",
   "execution_count": 3,
   "id": "4cb638bd-3ee5-420f-aa5e-30fd013bd599",
   "metadata": {
    "tags": []
   },
   "outputs": [],
   "source": [
    "#Thiswillconvert200minutestohoursbydividingby60"
   ]
  },
  {
   "cell_type": "code",
   "execution_count": 3,
   "id": "5b073c5d-ae80-4cbb-89cb-b42c0086e622",
   "metadata": {
    "tags": []
   },
   "outputs": [
    {
     "data": {
      "text/plain": [
       "3.3333333333333335"
      ]
     },
     "execution_count": 3,
     "metadata": {},
     "output_type": "execute_result"
    }
   ],
   "source": [
    "200/60"
   ]
  },
  {
   "cell_type": "markdown",
   "id": "3443a06e-cb10-449a-b505-01df2519647f",
   "metadata": {},
   "source": [
    "## Author\n",
    " Joseph Nyariki"
   ]
  },
  {
   "cell_type": "code",
   "execution_count": null,
   "id": "c997963a-e14a-4824-a28f-cb25aad94de5",
   "metadata": {},
   "outputs": [],
   "source": []
  }
 ],
 "metadata": {
  "kernelspec": {
   "display_name": "Python",
   "language": "python",
   "name": "conda-env-python-py"
  },
  "language_info": {
   "codemirror_mode": {
    "name": "ipython",
    "version": 3
   },
   "file_extension": ".py",
   "mimetype": "text/x-python",
   "name": "python",
   "nbconvert_exporter": "python",
   "pygments_lexer": "ipython3",
   "version": "3.7.12"
  }
 },
 "nbformat": 4,
 "nbformat_minor": 5
}
